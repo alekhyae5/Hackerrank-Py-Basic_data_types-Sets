{
  "nbformat": 4,
  "nbformat_minor": 0,
  "metadata": {
    "colab": {
      "provenance": []
    },
    "kernelspec": {
      "name": "python3",
      "display_name": "Python 3"
    },
    "language_info": {
      "name": "python"
    }
  },
  "cells": [
    {
      "cell_type": "code",
      "execution_count": null,
      "metadata": {
        "id": "Mp7kdsjDRWyn"
      },
      "outputs": [],
      "source": [
        "if __name__ == '__main__':\n",
        "    x = int(input())\n",
        "    y = int(input())\n",
        "    z = int(input())\n",
        "    n = int(input())\n",
        "    a=[[i,j,k] for i in range(x+1) for j in range(y+1) for k in range(z+1) if((i+j+k)!=n)]    \n",
        "    print(a)"
      ]
    },
    {
      "cell_type": "code",
      "source": [
        "if __name__ == '__main__':\n",
        "    n = int(input())\n",
        "    arr = map(int, input().split())\n",
        "    l=sorted(set(list(arr)))\n",
        "    print(l[-2])"
      ],
      "metadata": {
        "id": "GkpptscGRkHX"
      },
      "execution_count": null,
      "outputs": []
    },
    {
      "cell_type": "code",
      "source": [
        "a=[]\n",
        "sl=[]\n",
        "if __name__ == '__main__':\n",
        "    for _ in range(int(input())):\n",
        "        name = input()\n",
        "        score = float(input())\n",
        "        a+=[[name,score]]\n",
        "        sl+=[score]\n",
        "    b=sorted(list(set(sl)))[1]\n",
        "    for d,c in sorted(a):\n",
        "        if(b==c):\n",
        "            print(d)"
      ],
      "metadata": {
        "id": "regu8N39Roc_"
      },
      "execution_count": null,
      "outputs": []
    },
    {
      "cell_type": "code",
      "source": [
        "if __name__ == '__main__':\n",
        "    n = int(input())\n",
        "    student_marks = {}\n",
        "    for _ in range(n):\n",
        "        name, *line = input().split()\n",
        "        scores = list(map(float, line))\n",
        "        student_marks[name] = scores\n",
        "    query_name = input()\n",
        "    if query_name in student_marks:\n",
        "        a=float((student_marks[query_name][0]+student_marks[query_name][1]+student_marks[query_name][2])/3)\n",
        "    print('%.2f'%a)"
      ],
      "metadata": {
        "id": "QdNO8rd2Rtvi"
      },
      "execution_count": null,
      "outputs": []
    },
    {
      "cell_type": "code",
      "source": [
        "a=[]\n",
        "if __name__ == '__main__':\n",
        "    N = int(input())\n",
        "    for i in range(0,N):\n",
        "        s=input().split()\n",
        "        if s[0]==\"print\":\n",
        "            print(a)\n",
        "        elif s[0]==\"insert\":\n",
        "            a.insert(int(s[1]),int(s[2]))\n",
        "        elif s[0]==\"remove\":\n",
        "            a.remove(int(s[1]))\n",
        "        elif s[0]==\"append\":\n",
        "            a.append(int(s[1]))\n",
        "        elif s[0]==\"sort\":\n",
        "            a.sort()\n",
        "        elif s[0]==\"pop\":\n",
        "            a.pop()\n",
        "        else:\n",
        "            a.reverse()"
      ],
      "metadata": {
        "id": "XrUNxmhyR00T"
      },
      "execution_count": null,
      "outputs": []
    },
    {
      "cell_type": "code",
      "source": [
        "if __name__ == '__main__':\n",
        "    n = int(raw_input())\n",
        "    integer_list = map(int, raw_input().split())\n",
        "    t=tuple(integer_list)\n",
        "    a=hash(t)\n",
        "    print(a)"
      ],
      "metadata": {
        "id": "c_6MaHhXR7ci"
      },
      "execution_count": null,
      "outputs": []
    },
    {
      "cell_type": "code",
      "source": [
        "def average(array):\n",
        "    # your code goes here\n",
        "    arr=set(array)\n",
        "    a=sum(arr)/len(arr)\n",
        "    return a"
      ],
      "metadata": {
        "id": "piGaJX5YSgzA"
      },
      "execution_count": null,
      "outputs": []
    },
    {
      "cell_type": "code",
      "source": [
        "nm=list(map(int,input().split()))\n",
        "arr=list(map(int,input().split()))\n",
        "a=set(map(int,input().split()))\n",
        "b=set(map(int,input().split()))\n",
        "c=0\n",
        "for i in arr:\n",
        "    if i in a:\n",
        "        c+=1\n",
        "    elif i in b:\n",
        "        c-=1\n",
        "print(c)"
      ],
      "metadata": {
        "id": "T0acPFIoShwj"
      },
      "execution_count": null,
      "outputs": []
    },
    {
      "cell_type": "code",
      "source": [
        "n1=int(input())\n",
        "a=set(map(int,input().split(\" \")))\n",
        "n2=int(input())\n",
        "b=set(map(int,input().split(\" \")))\n",
        "l=list((a.difference(b)).union(b.difference(a)))\n",
        "l.sort()\n",
        "for i in l:\n",
        "    print(i)"
      ],
      "metadata": {
        "id": "0wKRsOK_S15R"
      },
      "execution_count": null,
      "outputs": []
    },
    {
      "cell_type": "code",
      "source": [
        "n=int(input())\n",
        "a=[]\n",
        "for i in range(n):\n",
        "    a.append(input())\n",
        "ans=len(set(a))\n",
        "print(ans)"
      ],
      "metadata": {
        "id": "ftcg33psS63k"
      },
      "execution_count": null,
      "outputs": []
    },
    {
      "cell_type": "code",
      "source": [
        "n = int(input())\n",
        "s = set(map(int, input().split()))\n",
        "cc=int(input())\n",
        "for i in range(cc):\n",
        "    c=list(input().split())\n",
        "    if c[0]=='pop':\n",
        "        s.pop()\n",
        "    elif c[0]=='remove':\n",
        "        try:\n",
        "            s.remove(int(c[1]))\n",
        "        except KeyError:\n",
        "            pass\n",
        "    else:\n",
        "        s.discard(int(c[1]))\n",
        "print(sum(s))"
      ],
      "metadata": {
        "id": "kfQMDyDkS8EK"
      },
      "execution_count": null,
      "outputs": []
    },
    {
      "cell_type": "code",
      "source": [
        "n=int(input())\n",
        "a=set(map(int,input().split()))\n",
        "m=int(input())\n",
        "b=set(map(int,input().split()))\n",
        "un=a.union(b)\n",
        "print(len(un))"
      ],
      "metadata": {
        "id": "SsnEYiJ6TA5i"
      },
      "execution_count": null,
      "outputs": []
    },
    {
      "cell_type": "code",
      "source": [
        "n=int(input())\n",
        "a=set(map(int,input().split()))\n",
        "m=int(input())\n",
        "b=set(map(int,input().split()))\n",
        "un=a.intersection(b)\n",
        "print(len(un))"
      ],
      "metadata": {
        "id": "3_7v7LkiTF6-"
      },
      "execution_count": null,
      "outputs": []
    },
    {
      "cell_type": "code",
      "source": [
        "n=int(input())\n",
        "a=set(map(int,input().split()))\n",
        "m=int(input())\n",
        "b=set(map(int,input().split()))\n",
        "un=a.difference(b)\n",
        "print(len(un))"
      ],
      "metadata": {
        "id": "qAcNO8sLTK2Q"
      },
      "execution_count": null,
      "outputs": []
    },
    {
      "cell_type": "code",
      "source": [
        "n=int(input())\n",
        "a=set(map(int,input().split()))\n",
        "m=int(input())\n",
        "b=set(map(int,input().split()))\n",
        "un=a^b\n",
        "print(len(un))"
      ],
      "metadata": {
        "id": "v2O5MoE5TRZ2"
      },
      "execution_count": null,
      "outputs": []
    },
    {
      "cell_type": "code",
      "source": [
        "n=int(input())\n",
        "a=set(map(int,input().split()))\n",
        "nofs=int(input())\n",
        "for i in range(nofs):\n",
        "    func=list(map(str,input().split()))\n",
        "    if func[0]=='intersection_update':\n",
        "        s1=set(map(int,input().split()))\n",
        "        a.intersection_update(s1)\n",
        "    elif func[0]=='update':\n",
        "        s1=set(map(int,input().split()))\n",
        "        a.update(s1)\n",
        "    elif func[0]=='symmetric_difference_update':\n",
        "        s1=set(map(int,input().split()))\n",
        "        a.symmetric_difference_update(s1)\n",
        "    else:\n",
        "        s1=set(map(int,input().split()))\n",
        "        a.difference_update(s1)\n",
        "res=sum(a)\n",
        "print(res)"
      ],
      "metadata": {
        "id": "kOItiRNVTWah"
      },
      "execution_count": null,
      "outputs": []
    },
    {
      "cell_type": "code",
      "source": [
        "from collections import Counter\n",
        "k=int(input())\n",
        "l=list(map(int,input().split()))\n",
        "d=Counter(l)\n",
        "for i in d:\n",
        "    if d[i]==1:\n",
        "        print(i)\n",
        "        break"
      ],
      "metadata": {
        "id": "3Ln_ku0ATbsa"
      },
      "execution_count": null,
      "outputs": []
    },
    {
      "cell_type": "code",
      "source": [
        "t=int(input())\n",
        "for i in range(t):\n",
        "    n=int(input())\n",
        "    a=set(map(int,input().split()))\n",
        "    m=int(input())\n",
        "    b=set(map(int,input().split()))\n",
        "    if(a.intersection(b)==a):\n",
        "        print('True')\n",
        "    else:\n",
        "        print('False')"
      ],
      "metadata": {
        "id": "gmBqyMiETg68"
      },
      "execution_count": null,
      "outputs": []
    },
    {
      "cell_type": "code",
      "source": [
        "arr=set(map(int,input().split()))\n",
        "n=int(input())\n",
        "b=[]\n",
        "for i in range(n):\n",
        "    a=set(map(int,input().split()))\n",
        "    for i in a:\n",
        "        if i not in arr:\n",
        "            b.append(False)\n",
        "            break\n",
        "    else:\n",
        "        b.append(True)\n",
        "res=b[0]&b[1]\n",
        "print(res)"
      ],
      "metadata": {
        "id": "0-_XwJ6GTm8J"
      },
      "execution_count": null,
      "outputs": []
    }
  ]
}